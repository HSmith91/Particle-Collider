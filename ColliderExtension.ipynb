{
 "cells": [
  {
   "cell_type": "code",
   "execution_count": 1,
   "id": "0fd9ffc6-13ce-4e7a-9125-3d0a62836f45",
   "metadata": {
    "tags": []
   },
   "outputs": [],
   "source": [
    "import random\n",
    "\n",
    "import numpy as np\n",
    "import matplotlib.pyplot as plt\n",
    "from scipy.stats import uniform, norm\n",
    "import seaborn as sns\n",
    "%matplotlib qt"
   ]
  },
  {
   "cell_type": "code",
   "execution_count": 2,
   "id": "8e84f1a7-d541-4b1c-be0a-9ec489b5f086",
   "metadata": {
    "tags": []
   },
   "outputs": [],
   "source": [
    "def checkList(particles): #Function to check if all particles are equal\n",
    "\n",
    "    element = particles[0]\n",
    "    check = True\n",
    "    \n",
    "    for i in particles:\n",
    "        if element != i:\n",
    "            check = False\n",
    "            break\n",
    "    \n",
    "    if (check == True):\n",
    "        return 100 # all elements are equal\n",
    "    else:\n",
    "        return -100\n",
    "\n",
    "\n",
    "\n",
    "def randomizer(particles): #Function to randomize particles in collider\n",
    "    \n",
    "    randomizer = []\n",
    "    \n",
    "    for z in range(len(particles)):\n",
    "            element = random.choice(range(len(particles)))\n",
    "            randomizer.append(element)\n",
    "    return randomizer"
   ]
  },
  {
   "cell_type": "code",
   "execution_count": 3,
   "id": "f60c1ff3-dfc7-4a9d-8da1-3b4f03e64fcf",
   "metadata": {
    "tags": []
   },
   "outputs": [],
   "source": [
    "def collider(particles): #Function to collide particles, with print statements left in for marker to check the code.\n",
    "    global x\n",
    "    x = 0\n",
    "    y = 0\n",
    "    \n",
    "    while y != 100:\n",
    "        x = x + 1\n",
    "        y = checkList(particles)\n",
    "        #print('y is', y)\n",
    "            \n",
    "\n",
    "        for i in randomizer(particles): \n",
    "            #print('i', i)\n",
    "            for j in randomizer(particles):# j = 4\n",
    "                #print('j', j)\n",
    "\n",
    "                if particles[i] != particles[j]:\n",
    "                    types = ['A', 'B', 'C', 'D']\n",
    "                    types.remove(particles[i])\n",
    "                    types.remove(particles[j])\n",
    "                    particles[i] = types[random.randint(0,1)]\n",
    "                    particles[j] = particles[i]\n",
    "                    #print(particles)\n",
    "                    #print('x is,', x)\n",
    "\n",
    "                #else: \n",
    "                    #print('nothing', particles)\n",
    " \n",
    "        if x == 1000:\n",
    "            break\n"
   ]
  },
  {
   "cell_type": "code",
   "execution_count": 4,
   "id": "edf68bbd-145e-4d78-a4f8-4a5a968ed321",
   "metadata": {
    "tags": []
   },
   "outputs": [
    {
     "name": "stdout",
     "output_type": "stream",
     "text": [
      "999\n"
     ]
    }
   ],
   "source": [
    "def game(amount): #Function to begin the collider, with print statements left in for marker to check the code.\n",
    "    particles = [random.choice(['A', 'B', 'C', 'D']) for i in range(amount)]\n",
    "    #print('Beginning of game,', particles)\n",
    "    collider(particles)\n",
    "    #print('End of game,', particles)\n",
    "    #print('x is', x)\n",
    "    #print('There are', x-1, 'loops')\n",
    "    \n",
    "    return x-1\n",
    "\n",
    "\n",
    "\n",
    "g = game(3)\n",
    "print(g)"
   ]
  },
  {
   "cell_type": "code",
   "execution_count": 11,
   "id": "b308d322-bb0e-41ee-b692-20a9c3a7f713",
   "metadata": {
    "tags": []
   },
   "outputs": [
    {
     "name": "stdout",
     "output_type": "stream",
     "text": [
      "737\n"
     ]
    }
   ],
   "source": [
    "N=1000 #Simulates the collider 1000 times\n",
    "finals = []\n",
    "for i in range(N):\n",
    "    loop = game(3)\n",
    "    finals.append(loop)\n",
    "    finals.sort()\n",
    "    \n",
    "counter = finals.count(999)\n",
    "print(counter)\n",
    "   \n",
    "    "
   ]
  },
  {
   "cell_type": "code",
   "execution_count": null,
   "id": "7011dea5-17f2-4b9b-a0b3-ca77aff94a07",
   "metadata": {},
   "outputs": [],
   "source": []
  },
  {
   "cell_type": "code",
   "execution_count": 7,
   "id": "4e4933de-5e1f-49aa-af29-45144e6d0e92",
   "metadata": {
    "tags": []
   },
   "outputs": [],
   "source": [
    "Max = max(finals)+1 #Creates a probability distribution of 1000 simulations of the collider.\n",
    "\n",
    "fig,(ax1, ax2) = plt.subplots(2,1)\n",
    "bins = np.arange(0, Max)-0.5\n",
    "prob, a1, a2 = ax1.hist(finals, bins, \n",
    "               density=True, color='purple')\n",
    "ax1.set_ylabel('Probability distribution')\n",
    "ax1.set_title('Distribution of collisions')\n",
    "\n",
    "\n",
    "plt.subplots_adjust(hspace=0.1)\n",
    "plt.setp(ax1.get_xticklabels(), visible=False)\n",
    "\n",
    "cprob, b1, b2 = ax2.hist(finals, bins, \n",
    "                density=True, cumulative=True,\n",
    "                histtype='step', color = 'b')\n",
    "ax2.set_ylabel('Cumulative distribution')\n",
    "ax2.set_yticks(np.arange(0,1.01,0.1))\n",
    "ax2.set_ylim([0,1])\n",
    "ax2.set_xlabel('Number of collisions')\n",
    "\n",
    "\n",
    "ax2.axhline(y=0.5, color='r', linestyle=':')\n",
    "ans = np.searchsorted(cprob, 0.5)\n",
    "#ax2.text(41, 0.52, 'Pr of convergence is (>0.5) when the number of collisions exceeds'\n",
    "                   #r'$\\geq$' f'{ans}')\n",
    "people = np.arange(1,101)\n",
    "\n",
    "for X in [ax1,ax2]:\n",
    "    X.set_xlim(0,Max+2)\n",
    "    X.grid()\n",
    "\n",
    "plt.show()"
   ]
  },
  {
   "cell_type": "code",
   "execution_count": null,
   "id": "9c58cfcd-c4a9-4daf-a2e8-d2ced34a2520",
   "metadata": {},
   "outputs": [],
   "source": []
  }
 ],
 "metadata": {
  "kernelspec": {
   "display_name": "Python 3 (ipykernel)",
   "language": "python",
   "name": "python3"
  },
  "language_info": {
   "codemirror_mode": {
    "name": "ipython",
    "version": 3
   },
   "file_extension": ".py",
   "mimetype": "text/x-python",
   "name": "python",
   "nbconvert_exporter": "python",
   "pygments_lexer": "ipython3",
   "version": "3.11.5"
  }
 },
 "nbformat": 4,
 "nbformat_minor": 5
}
